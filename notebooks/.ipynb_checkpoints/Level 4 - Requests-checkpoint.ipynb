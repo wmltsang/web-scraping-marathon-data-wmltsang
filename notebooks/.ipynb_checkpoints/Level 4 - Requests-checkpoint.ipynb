{
 "cells": [
  {
   "cell_type": "markdown",
   "metadata": {},
   "source": [
    "# Level 4 - Requests\n",
    "\n",
    "Requests is a python package that allows you to send HTTP/1.1 requests extremely easily.\n",
    "\n",
    "HTTP stand for: `Hyper` `Text` `Transfer` `Protocol`.\n",
    "\n",
    "Communication between client computers and web servers is done by sending `HTTP Requests` and receiving `HTTP Responses`!\n",
    "\n",
    "A typical `HTTP request / response` circle looks like:\n",
    "* The browser requests an HTML page. The server returns an HTML file.\n",
    "* The browser requests a style sheet. The server returns a CSS file.\n",
    "* The browser requests an JPG image. The server returns a JPG file.\n",
    "* The browser requests JavaScript code. The server returns a JS file\n",
    "* The browser requests data. The server returns data (in XML or JSON).\n",
    "\n",
    "So, if we want to \"web scrape\", we need to be able to `request` and HTML page and then we need to be able to process the `response`.\n",
    "\n",
    "And that is where the `requests` package comes in to play!"
   ]
  },
  {
   "cell_type": "code",
   "execution_count": 1,
   "metadata": {},
   "outputs": [],
   "source": [
    "import requests"
   ]
  },
  {
   "cell_type": "markdown",
   "metadata": {},
   "source": [
    "## Get the `HTML`\n",
    "\n",
    "For the `RunRocknRoll` project, we want to access tables living on the website.\n",
    "To start off, let's try requesting the URL of the website itself!"
   ]
  },
  {
   "cell_type": "code",
   "execution_count": 2,
   "metadata": {},
   "outputs": [],
   "source": [
    "URL = \"https://www.runrocknroll.com/Events/Nashville/The-Races/Marathon/2016-Results\""
   ]
  },
  {
   "cell_type": "code",
   "execution_count": 12,
   "metadata": {},
   "outputs": [
    {
     "data": {
      "text/plain": [
       "200"
      ]
     },
     "execution_count": 12,
     "metadata": {},
     "output_type": "execute_result"
    }
   ],
   "source": [
    "#change from get to post becasue the table is got from form when we click search\n",
    "#inspect the website and look at network tab also see activities going on\n",
    "response = requests.post(URL)\n",
    "response.status_code"
   ]
  },
  {
   "cell_type": "code",
   "execution_count": 4,
   "metadata": {},
   "outputs": [
    {
     "data": {
      "text/plain": [
       "'text/html; charset=utf-8'"
      ]
     },
     "execution_count": 4,
     "metadata": {},
     "output_type": "execute_result"
    }
   ],
   "source": [
    "# This is so we can see that the response is actually HTML and not \n",
    "# something unexpected\n",
    "response.headers[\"content-type\"]"
   ]
  },
  {
   "cell_type": "code",
   "execution_count": 5,
   "metadata": {},
   "outputs": [
    {
     "data": {
      "text/plain": [
       "b'\\n<!DOCTYPE html>\\n<!--[if IE 9]><html lang=\"en\" class=\"ie9 no-js\"><![endif]-->\\n<!--[if !IE]><!-->\\n<html lang=\"en\">\\n<!--<![endif]-->\\n<head>\\n<script src=\"/cdn-cgi/apps/head/u7S6kWy3Cysuih2qEtS0XdJlwiE.js\"></script><link href=\"/styles/vendor.min.css\" rel=\"stylesheet\" />\\n<link href=\"/styles/rnr.min.css\" rel=\"stylesheet\" />\\n<meta charset=\"utf-8\" />\\n<meta http-equiv=\"X-UA-Compatible\" content=\"IE=edge\">\\n<meta http-equiv=\"Content-type\" content=\"text/html; charset=utf-8\">\\n<meta content=\"width=device-width, initial-scale=1.0\" name=\"viewport\" />\\n<title> | Rock n Roll Marathon Series | Marathon Half Marathon Events</title>\\n<meta property=\"og:title\" content=\"\" />\\n<meta property=\"og:image\" content=\"\" />\\n<meta property=\"og:description\" content=\"\" />\\n<meta property=\"og:url\" content=\"https://www.runrocknroll.com:443/Events/Nashville/The Races/Marathon/2016 Results\" />\\n\\n<script>\\r\\n        (function (w, d, s, l, i) {\\r\\n            w[l] = w[l] || [];\\r\\n            w[l].push({\\r\\n                \\'gtm.start\\':\\r\\n                    new Date().getTime(),\\r\\n                event: \\'gtm.js\\'\\r\\n            });\\r\\n            var f = d.getElementsByTagName(s)[0],\\r\\n                j = d.createElement(s),\\r\\n                dl = l != \\'dataLayer\\' ? \\'&l=\\' + l : \\'\\';\\r\\n            j.async = true;\\r\\n            j.src =\\r\\n                \\'https://www.googletagmanager.com/gtm.js?id=\\' + i + dl;\\r\\n            f.parentNode.insertBefore(j, f);\\r\\n        })(window, document, \\'script\\', \\'dataLayer\\', \\'GTM-MFKTKL\\');\\r\\n    </script>\\n\\n\\n<script type=\"text/javascript\">\\r\\n        (function () {\\r\\n            var didInit = false;\\r\\n            function initMunchkin() {\\r\\n                if (didInit === false) {\\r\\n                    didInit = true;\\r\\n                    Munchkin.init(\\'124-QVG-738\\');\\r\\n                }\\r\\n            }\\r\\n            var s = document.createElement(\\'script\\');\\r\\n            s.type = \\'text/javascript\\';\\r\\n            s.async = true;\\r\\n            s.src = \\'//munchkin.marketo.net/munchkin.js\\';\\r\\n            s.onreadystatechange = function () {\\r\\n                if (this.readyState == \\'complete\\' || this.readyState == \\'loaded\\') {\\r\\n                    initMunchkin();\\r\\n                }\\r\\n            };\\r\\n            s.onload = initMunchkin;\\r\\n            document.getElementsByTagName(\\'head\\')[0].appendChild(s);\\r\\n        })();\\r\\n    </script>\\n\\n\\n<script src=\"/scripts/Sitecore.Foundation.Frameworks.min.js\"></script>\\n<script src=\"/scripts/Sitecore.Foundation.Theming.min.js\"></script>\\n</head>\\n<body class=\"header-static \">\\n\\n<noscript>\\r\\n        <iframe src=\"https://www.googletagmanager.com/ns.html?id=GTM-MFKTKL\"\\r\\n                height=\"0\" width=\"0\" style=\"display:none;visibility:hidden\"></iframe>\\r\\n    </noscript>\\n\\n<div id=\"main-container\">\\n<header class=\"header-static\">\\n<nav class=\"navbar navbar-default navbar-static\" id=\"mainNavbar\">\\n<div class=\"container\">\\n<div class=\"row\">\\n<div class=\"nav-wrapper\">\\n<div class=\"navbar-right col-sm-12 col-md-2 col-lg-2 clearfix\">\\n<div class=\"navbar-activity event-navbar-activity\">\\n<ul class=\"nav navbar-nav\">\\n<li class=\"dropdown\">\\n<a href=\"#\" class=\"btn dropdown-toggle\" data-toggle=\"dropdown\">\\n<i class=\"fa fa-globe\"></i>\\n</a>\\n<ul class=\"dropdown-menu\">\\n<li class=\"\">\\n<a href=\"https://www.runrocknroll.com:443/it/events/nashville/the races/marathon/2016 results/\" onclick=\"return SwitchToLanguage(\\'it\\', \\'en\\', \\'https://www.runrocknroll.com:443/it/events/nashville/the races/marathon/2016 results/\\')\">italiano</a>\\n</li>\\n<li class=\"\">\\n<a href=\"https://www.runrocknroll.com:443/zh/events/nashville/the races/marathon/2016 results/\" onclick=\"return SwitchToLanguage(\\'zh\\', \\'en\\', \\'https://www.runrocknroll.com:443/zh/events/nashville/the races/marathon/2016 results/\\')\">\\xe4\\xb8\\xad\\xe6\\x96\\x87</a>\\n</li>\\n<li class=\"active\">\\n<a href=\"https://www.runrocknroll.com:443/en/events/nashville/the races/marathon/2016 results/\" onclick=\"return SwitchToLanguage(\\'en\\', \\'en\\', \\'https://www.runrocknroll.com:443/en/events/nashville/the races/marathon/2016 results/\\')\">English</a>\\n</li>\\n<li class=\"\">\\n<a href=\"https://www.runrocknroll.com:443/fr/events/nashville/the races/marathon/2016 results/\" onclick=\"return SwitchToLanguage(\\'fr\\', \\'en\\', \\'https://www.runrocknroll.com:443/fr/events/nashville/the races/marathon/2016 results/\\')\">fran&#231;ais</a>\\n</li>\\n<li class=\"\">\\n<a href=\"https://www.runrocknroll.com:443/de/events/nashville/the races/marathon/2016 results/\" onclick=\"return SwitchToLanguage(\\'de\\', \\'en\\', \\'https://www.runrocknroll.com:443/de/events/nashville/the races/marathon/2016 results/\\')\">Deutsch</a>\\n</li>\\n<li class=\"\">\\n<a href=\"https://www.runrocknroll.com:443/es/events/nashville/the races/marathon/2016 results/\" onclick=\"return SwitchToLanguage(\\'es\\', \\'en\\', \\'https://www.runrocknroll.com:443/es/events/nashville/the races/marathon/2016 results/\\')\">espa&#241;ol</a>\\n</li>\\n</ul>\\n</li><li class=\"navbar-activity-search dropdown\">\\n<form action=\"/Search\" class=\"navbar-form\" role=\"search\">\\n<div class=\"form-group\">\\n<input type=\"text\" name=\"query\" id=\"searchInputBox\" placeholder=\"Enter a text to search for...\" autocomplete=\"off\" />\\n</div>\\n</form>\\n<a href=\"#\" class=\"btn navbar-toggle-search\" data-toggle-class=\"is-searching\" data-target=\"#mainNavbar\">\\n<span class=\"glyphicon glyphicon-search\"></span>\\n</a>\\n<div class=\"dropdown-menu dropdown-menu-wide\" id=\"navbar-activity-search-results\">\\n<div class=\"row panel-loading\">\\n<div class=\"col-md-12\">\\n<div class=\"text-center p-b-1\">\\nSearching...\\n</div>\\n<div class=\"text-center\">\\n<span class=\"fa fa-spinner fa-2x fa-spin\"></span>\\n</div>\\n</div>\\n</div>\\n<div class=\"row panel-results\">\\n<div class=\"col-md-12\">\\n<ul class=\"media-list results\"></ul>\\n</div>\\n</div>\\n<div class=\"row panel-result-count\">\\n<div class=\"col-md-12\">\\n<small>\\n<em class=\"result-count\"></em>\\nsearch results found.\\n</small>\\n</div>\\n</div>\\n<div class=\"row panel-facet-values\">\\n<div class=\"col-md-12\">\\n<ul class=\"facet-values\"></ul>\\n</div>\\n</div>\\n<div class=\"row\">\\n<div class=\"col-md-12\">\\n<button class=\"btn btn-primary btn-sm pull-right\" onclick=\"$(\\'.navbar-activity-search form\\').submit()\">Search</button>\\n</div>\\n</div>\\n</div>\\n</li>\\n</ul>\\n</div>\\n<div class=\"event-countdown\">\\n<input id=\"yEvent\" type=\"hidden\" value=\"2020\" />\\n<input id=\"mEvent\" type=\"hidden\" value=\"11\" />\\n<input id=\"dEvent\" type=\"hidden\" value=\"21\" />\\n<input id=\"hEvent\" type=\"hidden\" value=\"0\" />\\n<input id=\"mmEvent\" type=\"hidden\" value=\"0\" />\\n<input id=\"sEvent\" type=\"hidden\" value=\"0\" />\\n<table>\\n<tr>\\n<td id=\"ddcounter\">&nbsp;</td>\\n<td id=\"hhcounter\"> </td>\\n<td id=\"mmcounter\"> </td>\\n<td id=\"sscounter\"> </td>\\n</tr>\\n<tr>\\n<th>Days</th>\\n<th>Hours</th>\\n<th>Mins</th>\\n<th>Secs</th>\\n</tr>\\n</table>\\n</div>\\n<ul class=\"nav navbar-nav mega-menu-results header-btn\">\\n<li class=\"dropdown\">\\n<a href=\"/Events/Nashville/Registration\" class=\"dropdown-toggle btn btn-block\">Register</a>\\n</li>\\n</ul>\\n</div>\\n<div class=\"navbar-left col-sm-12 col-md-2 col-lg-2\">\\n<button type=\"button\" class=\"navbar-toggle collapsed\" data-toggle=\"collapse\" data-target=\"#siteNavbar\" aria-expanded=\"false\">\\n<span class=\"sr-only\">Toggle navigation</span>\\n<span class=\"icon-bar\"></span>\\n<span class=\"icon-bar\"></span>\\n<span class=\"icon-bar\"></span>\\n</button>\\n<a class=\"navbar-brand \" href=\"/en\">\\n<span class=\"logo row\">\\n<img src=\"/-/media/RnR/Images/Logo/rock-n-roll-marathon-logo.png?h=50&amp;la=en&amp;mh=50&amp;w=270&amp;hash=B93502675AEE53BFDE866A7EEF0E5CD9\" alt=\"Rock n Roll Marathon Series\" width=\"270\" height=\"50\" DisableWebEdit=\"False\" />\\n</span>\\n</a>\\n</div>\\n<div class=\"navbar-center col-sm-12 col-md-8 col-lg-8\">\\n<div class=\"collapse navbar-collapse\" id=\"siteNavbar\">\\n<ul class=\"nav navbar-nav\">\\n<li class=\"\">\\n<a class=\"text-uppercase\" href=\"/Blog\" target=\"\">\\nBlog\\n</a>\\n</li>\\n<li class=\"\">\\n<a class=\"text-uppercase\" href=\"https://www.runrocknrollstore.com/\" target=\"_blank\">\\nShop\\n</a>\\n</li>\\n<li class=\"\">\\n<a class=\"text-uppercase\" href=\"https://www.runrocknroll.com/Programs/TourPass\" target=\"|Custom\">\\nTourPass\\n</a>\\n</li>\\n<li class=\"\">\\n<a class=\"text-uppercase\" href=\"http://www.runrocknrollvr.com\" target=\"_blank\">\\nVirtual Club\\n</a>\\n</li>\\n<li class=\"\">\\n<a class=\"text-uppercase\" href=\"/Events\" target=\"\">\\nEvents\\n</a>\\n</li>\\n<li class=\"\">\\n<a class=\"text-uppercase\" href=\"/Programs\" target=\"\">\\nPrograms\\n</a>\\n</li>\\n<li class=\"\">\\n<a class=\"text-uppercase\" href=\"/Partners\" target=\"\">\\nPartners\\n</a>\\n</li>\\n<li class=\"\">\\n<a class=\"text-uppercase\" href=\"/Results\" target=\"\">\\nResults\\n</a>\\n</li>\\n</ul>\\n</div>\\n\\n<div class=\"row nav-mega-menu\">\\n<div class=\"col-lg-12\">\\n<ul class=\"nav navbar-nav mega-menu-main\">\\n<li class=\" nav-2 col-lg-6  dropdown\">\\n<a href=\"\" class=\"dropdown-toggle btn btn-block\" data-toggle=\"dropdown\" aria-haspopup=\"true\" aria-expanded=\"false\">\\nThe Races\\n</a>\\n<div class=\"mega-menu-content\">\\n<div class=\"row\">\\n<div class=\"col-xs-12 col-sm-3 col-md-3\">\\n<div class=\"collapse navbar-collapse\" id=\"siteNavbar\">\\n<ul class=\"nav nav-service navbar-nav nav-pills\">\\n<li class=\"\">\\n<a href=\"/Events/Nashville/The-Races/FAQ\" target=\"\" title=\"FAQ\" class=\"\">\\nFAQ </a>\\n</li>\\n<li class=\"\">\\n<a href=\"/Events/Nashville/The-Races/Results\" target=\"\" title=\"Results\" class=\"\">\\nResults </a>\\n</li>\\n<li class=\"\">\\n<a href=\"/Events/Nashville/The-Races/Road-Closures\" target=\"\" title=\"Road Closures\" class=\"\">\\nRoad Closures </a>\\n</li>\\n<li class=\"\">\\n<a href=\"/Elite-Athletes\" target=\"\" title=\"Elites\" class=\"\">\\nElites </a>\\n</li>\\n<li class=\"\">\\n<a href=\"/Programs/Athletes-with-Disabilities\" target=\"\" title=\"Athletes with Disabilities\" class=\"\">\\nAthletes with Disabilities </a>\\n</li>\\n</ul>\\n</div>\\n</div>\\n<div class=\"col-xs-12 col-sm-4 col-md-4\">\\n<div class=\"collapse navbar-collapse\" id=\"siteNavbar\">\\n<ul class=\"nav nav-service navbar-nav nav-pills\">\\n<li class=\"active \">\\n<a href=\"/Events/Nashville/The-Races/Marathon\" target=\"\" title=\"Marathon\" class=\"\">\\nMarathon </a>\\n</li>\\n<li class=\"\">\\n<a href=\"/Events/Nashville/The-Races/Half-Marathon\" target=\"\" title=\"Half Marathon\" class=\"\">\\nHalf Marathon </a>\\n</li>\\n</ul>\\n</div>\\n</div>\\n</div> </div>\\n</li>\\n<li class=\" nav-2 col-lg-6  dropdown\">\\n<a href=\"\" class=\"dropdown-toggle btn btn-block\" data-toggle=\"dropdown\" aria-haspopup=\"true\" aria-expanded=\"false\">\\nThe Weekend\\n</a>\\n<div class=\"mega-menu-content\">\\n<div class=\"row\">\\n<div class=\"col-xs-12 col-sm-3 col-md-3\">\\n<div class=\"collapse navbar-collapse\" id=\"siteNavbar\">\\n<ul class=\"nav nav-service navbar-nav nav-pills\">\\n<li class=\"\">\\n<a href=\"/Events/Nashville/The-Weekend/Travel/Stay\" target=\"\" title=\"Hotels\" class=\"\">\\nHotels </a>\\n</li>\\n<li class=\"\">\\n<a href=\"/Events/Nashville/The-Weekend/Travel/Fly\" target=\"\" title=\"Travel\" class=\"\">\\nTravel </a>\\n</li>\\n<li class=\"\">\\n<a href=\"/Events/Nashville/The-Weekend/Expo\" target=\"\" title=\"Expo\" class=\"\">\\nExpo </a>\\n</li>\\n<li class=\"\">\\n<a href=\"/Events/Nashville/The-Weekend/Schedule\" target=\"\" title=\"Schedule\" class=\"\">\\nSchedule </a>\\n</li>\\n<li class=\"\">\\n<a href=\"\" target=\"\" title=\"Entertainment\" class=\"\">\\nEntertainment </a>\\n</li>\\n</ul>\\n</div>\\n</div>\\n<div class=\"col-xs-12 col-sm-2 col-md-2\">\\n<div class=\"collapse navbar-collapse\" id=\"siteNavbar\">\\n<ul class=\"nav nav-service navbar-nav nav-pills\">\\n<li class=\"divider-left\">\\n<a href=\"/Events/Nashville/The-Weekend/Runner-Perks\" target=\"|Custom\" title=\"Runner Perks\" class=\"\">\\nRunner Perks </a>\\n</li>\\n<li class=\"\">\\n<a href=\"/Events/Nashville/The-Weekend/Travel/Transport\" target=\"|Custom\" title=\"Parking Information\" class=\"\">\\nParking Information </a>\\n</li>\\n<li class=\"divider-left\">\\n<a href=\"/Events/Nashville/News-and-Promotions\" target=\"|Custom\" title=\"News and Promotions\" class=\"\">\\nNews and Promotions </a>\\n</li>\\n<li class=\"\">\\n<a href=\"/Events/Nashville/The-Weekend/Volunteer\" target=\"\" title=\"Volunteer\" class=\"\">\\nVolunteer </a>\\n</li>\\n</ul>\\n</div>\\n</div>\\n</div> </div>\\n</li>\\n</ul>\\n</div>\\n</div>\\n</div>\\n</div>\\n</div>\\n</div>\\n</nav>\\n</header>\\n<main role=\"main\">\\n<header class=\"page-header bg-media\" style=background-image:url(&#39;/-/media/RnR/Images/Events/Nashville/Images/nash-hero-new-compressor.jpg&#39;);>\\n<div class=\"container breadcrumb-container\">\\n<ol class=\"breadcrumb\">\\n<li class=\"\">\\n<a href=\"/\">Home</a>\\n</li>\\n<li class=\"\">\\n<a href=\"/Events\">Events</a>\\n</li>\\n<li class=\"\">\\n<a href=\"/Events/Nashville\">Nashville</a>\\n</li>\\n<li class=\"\">\\n<a href=\"/Events/Nashville/The-Races\">The Races</a>\\n</li>\\n<li class=\"\">\\n<a href=\"/Events/Nashville/The-Races/Marathon\">Marathon</a>\\n</li>\\n<li class=\"active\">\\n<a href=\"/Events/Nashville/The-Races/Marathon/2016-Results\">2018 Results</a>\\n</li>\\n</ol>\\n</div>\\n<div class=\"container text-center g-pb-50\">\\n<div class=\"row g-min-height-500\">\\n<div class=\"col-lg-12\">\\n<div class=\"event-header-container\">\\n<div class=\"row ev-h2-div\">\\n<div class=\"divider-div\">\\n<div class=\"low-divider\"></div>\\n</div>\\n<div class=\"ev-h2\">\\n<h2>\\nRock &#39;n&#39; Roll </h2>\\n</div>\\n<div class=\"divider-div\">\\n<div class=\"low-divider\"></div>\\n</div>\\n</div>\\n<div class=\"ev-h1\">\\n<h1>\\nNashville </h1>\\n</div>\\n<div class=\"row ev-h3-div\">\\n<div class=\"divider-div\">\\n<div class=\"low-divider\"></div>\\n</div>\\n<div class=\"ev-h3\">\\n<h3>\\n<time>\\nNov 21, 2020\\n</time>\\n</h3>\\n</div>\\n<div class=\"divider-div\">\\n<div class=\"low-divider\"></div>\\n</div>\\n</div>\\n</div>\\n</div>\\n</div>\\n</div>\\n</header>\\n<section class=\"section section-full \">\\n<div class=\"container\">\\n<div class=\"row\">\\n<div class=\"col-md-12\">\\n\\n<div class=\"row race-search-res-container\">\\n<div class=\"race-search-res-div-main col-xs-12\">\\n<h2><br /><small>Saturday, April 30, 2016</small></h2>\\n<div class=\"race-search-main col-xs-12\">\\n<div class=\"race-search-top10-div\">\\n<table class=\"table table-responsive table-bordered\">\\n<tr>\\n<th class=\"table-place\">Overall</th>\\n<th class=\"table-place\">Bib</th>\\n<th class=\"table-name\">Name</th>\\n<th class=\"table-time\">Time</th>\\n</tr>\\n<tr>\\n<td>1</td>\\n<td>1</td>\\n<td><a href=\"/en/Events/Nashville/The-Races/Marathon/2016-Results/Athlete?id=1\">Scott Wietecha</a></td>\\n<td>02:25:42</td>\\n</tr>\\n<tr>\\n<td>2</td>\\n<td>3</td>\\n<td><a href=\"/en/Events/Nashville/The-Races/Marathon/2016-Results/Athlete?id=3\">Brian Shelton</a></td>\\n<td>02:34:43</td>\\n</tr>\\n<tr>\\n<td>3</td>\\n<td>1047</td>\\n<td><a href=\"/en/Events/Nashville/The-Races/Marathon/2016-Results/Athlete?id=1047\">Christopher Capps</a></td>\\n<td>02:38:43</td>\\n</tr>\\n<tr>\\n<td>4</td>\\n<td>1052</td>\\n<td><a href=\"/en/Events/Nashville/The-Races/Marathon/2016-Results/Athlete?id=1052\">Jason Grimes</a></td>\\n<td>02:45:06</td>\\n</tr>\\n<tr>\\n<td>5</td>\\n<td>1046</td>\\n<td><a href=\"/en/Events/Nashville/The-Races/Marathon/2016-Results/Athlete?id=1046\">David Adams</a></td>\\n<td>02:47:28</td>\\n</tr>\\n<tr>\\n<td>6</td>\\n<td>1049</td>\\n<td><a href=\"/en/Events/Nashville/The-Races/Marathon/2016-Results/Athlete?id=1049\">Matthew Meinema</a></td>\\n<td>02:47:36</td>\\n</tr>\\n<tr>\\n<td>7</td>\\n<td>1044</td>\\n<td><a href=\"/en/Events/Nashville/The-Races/Marathon/2016-Results/Athlete?id=1044\">Seth Carley</a></td>\\n<td>02:48:22</td>\\n</tr>\\n<tr>\\n<td>8</td>\\n<td>1092</td>\\n<td><a href=\"/en/Events/Nashville/The-Races/Marathon/2016-Results/Athlete?id=1092\">Ben Becker</a></td>\\n<td>02:52:19</td>\\n</tr>\\n<tr>\\n<td>9</td>\\n<td>1057</td>\\n<td><a href=\"/en/Events/Nashville/The-Races/Marathon/2016-Results/Athlete?id=1057\">Jonathan Mason</a></td>\\n<td>02:53:38</td>\\n</tr>\\n<tr>\\n<td>10</td>\\n<td>1058</td>\\n<td><a href=\"/en/Events/Nashville/The-Races/Marathon/2016-Results/Athlete?id=1058\">Matt Treat</a></td>\\n<td>02:53:48</td>\\n</tr>\\n<tr>\\n<td>11</td>\\n<td>1067</td>\\n<td><a href=\"/en/Events/Nashville/The-Races/Marathon/2016-Results/Athlete?id=1067\">Kevin Selinsky</a></td>\\n<td>02:55:49</td>\\n</tr>\\n<tr>\\n<td>12</td>\\n<td>1069</td>\\n<td><a href=\"/en/Events/Nashville/The-Races/Marathon/2016-Results/Athlete?id=1069\">Cole Bataille</a></td>\\n<td>02:56:56</td>\\n</tr>\\n<tr>\\n<td>13</td>\\n<td>1087</td>\\n<td><a href=\"/en/Events/Nashville/The-Races/Marathon/2016-Results/Athlete?id=1087\">Joseph Shields</a></td>\\n<td>02:58:53</td>\\n</tr>\\n<tr>\\n<td>14</td>\\n<td>1108</td>\\n<td><a href=\"/en/Events/Nashville/The-Races/Marathon/2016-Results/Athlete?id=1108\">Melanie Kulesz</a></td>\\n<td>02:59:09</td>\\n</tr>\\n<tr>\\n<td>15</td>\\n<td>2014</td>\\n<td><a href=\"/en/Events/Nashville/The-Races/Marathon/2016-Results/Athlete?id=2014\">Kieran Frost</a></td>\\n<td>02:59:30</td>\\n</tr>\\n<tr>\\n<td>16</td>\\n<td>1155</td>\\n<td><a href=\"/en/Events/Nashville/The-Races/Marathon/2016-Results/Athlete?id=1155\">Brian Wiest</a></td>\\n<td>02:59:51</td>\\n</tr>\\n<tr>\\n<td>17</td>\\n<td>1048</td>\\n<td><a href=\"/en/Events/Nashville/The-Races/Marathon/2016-Results/Athlete?id=1048\">Braden Robbins</a></td>\\n<td>03:00:26</td>\\n</tr>\\n<tr>\\n<td>18</td>\\n<td>1080</td>\\n<td><a href=\"/en/Events/Nashville/The-Races/Marathon/2016-Results/Athlete?id=1080\">Bo Brewer</a></td>\\n<td>03:01:09</td>\\n</tr>\\n<tr>\\n<td>19</td>\\n <td>27408</td>\\n<td><a href=\"/en/Events/Nashville/The-Races/Marathon/2016-Results/Athlete?id=27408\">Bryan Larison</a></td>\\n<td>03:01:23</td>\\n</tr>\\n<tr>\\n<td>20</td>\\n<td>101</td>\\n<td><a href=\"/en/Events/Nashville/The-Races/Marathon/2016-Results/Athlete?id=101\">Megan Hovis</a></td>\\n<td>03:04:49</td>\\n</tr>\\n<tr>\\n<td>21</td>\\n<td>2003</td>\\n<td><a href=\"/en/Events/Nashville/The-Races/Marathon/2016-Results/Athlete?id=2003\">Ryan Ladd</a></td>\\n<td>03:05:51</td>\\n</tr>\\n<tr>\\n<td>22</td>\\n<td>1081</td>\\n<td><a href=\"/en/Events/Nashville/The-Races/Marathon/2016-Results/Athlete?id=1081\">Mark Temme</a></td>\\n<td>03:06:21</td>\\n</tr>\\n<tr>\\n<td>23</td>\\n<td>1137</td>\\n<td><a href=\"/en/Events/Nashville/The-Races/Marathon/2016-Results/Athlete?id=1137\">Alexandre Jamar</a></td>\\n<td>03:06:22</td>\\n</tr>\\n<tr>\\n<td>24</td>\\n<td>1142</td>\\n<td><a href=\"/en/Events/Nashville/The-Races/Marathon/2016-Results/Athlete?id=1142\">Shandra Moore</a></td>\\n<td>03:08:32</td>\\n</tr>\\n<tr>\\n<td>25</td>\\n<td>1085</td>\\n<td><a href=\"/en/Events/Nashville/The-Races/Marathon/2016-Results/Athlete?id=1085\">Thomas Von Der Ohe</a></td>\\n<td>03:08:39</td>\\n</tr>\\n</table>\\n<div class=\"pager\">\\n<form action=\"/Events/Nashville/The-Races/Marathon/2016-Results\" class=\"pager col-xs-12\" id=\"list-pager\" method=\"post\"><div class=\"pagination-container\"><ul class=\"pagination\"><li class=\"disabled PagedList-skipToPrevious\"><a rel=\"prev\"><</a></li><li class=\"active\"><span>1</span></li><li><a href=\"https://www.runrocknroll.com/Events/Nashville/The-Races/Marathon/2016-Results?gender=&amp;agegroup=&amp;bib=&amp;firstname=&amp;lastname=&amp;page=2\">2</a></li><li><a href=\"https://www.runrocknroll.com/Events/Nashville/The-Races/Marathon/2016-Results?gender=&amp;agegroup=&amp;bib=&amp;firstname=&amp;lastname=&amp;page=3\">3</a></li><li><a href=\"https://www.runrocknroll.com/Events/Nashville/The-Races/Marathon/2016-Results?gender=&amp;agegroup=&amp;bib=&amp;firstname=&amp;lastname=&amp;page=4\">4</a></li><li><a href=\"https://www.runrocknroll.com/Events/Nashville/The-Races/Marathon/2016-Results?gender=&amp;agegroup=&amp;bib=&amp;firstname=&amp;lastname=&amp;page=5\">5</a></li><li class=\"PagedList-skipToNext\"><a href=\"https://www.runrocknroll.com/Events/Nashville/The-Races/Marathon/2016-Results?gender=&amp;agegroup=&amp;bib=&amp;firstname=&amp;lastname=&amp;page=6\" rel=\"next\">&#8230;</a></li><li class=\"PagedList-skipToNext\"><a href=\"https://www.runrocknroll.com/Events/Nashville/The-Races/Marathon/2016-Results?gender=&amp;agegroup=&amp;bib=&amp;firstname=&amp;lastname=&amp;page=2\" rel=\"next\">></a></li></ul></div></form> <form action=\"/Events/Nashville/The-Races/Marathon/2016-Results\" class=\"pager col-xs-12\" method=\"get\"> <span class=\"col-xs-12 col-sm-5\">\\n<input type=\"submit\" value=\"New Search\" class=\"btn btn-block red-grad-btn search-btn\" value=\"New Search\" />\\n</span>\\n</form> </div>\\n <script>\\r\\n                    $(\".pager a\").click(function (event) {\\r\\n                        event.preventDefault();\\r\\n                        var element = $(this);\\r\\n                        var action = element.attr(\"href\");\\r\\n                        element.closest(\"form\").each(function () {\\r\\n                            var form = $(this);\\r\\n                            form.attr(\"action\", action);\\r\\n                            form.submit();\\r\\n                        });\\r\\n                    });\\r\\n                </script>\\n</div>\\n</div>\\n</div>\\n</div>\\n<div class=\"headline2 \">\\n<h3>Leaderboards</h3>\\n</div>\\n</div>\\n</div>\\n</div><div class=\"container\">\\n<div class=\"row\">\\n<div class=\"col-md-6\">\\n<div class=\"race-search-top10-div\">\\n<table class=\"table table-responsive table-bordered\">\\n<tr>\\n<th class=\"table-header\" colspan=\"3\">Top Females</th>\\n</tr>\\n<tr>\\n<th class=\"table-place\">Gender PL</th>\\n<th class=\"table-name\">Name</th>\\n<th class=\"table-time\">Time</th>\\n</tr>\\n<tr>\\n<td>1</td>\\n<td><a href=\"/en/Events/Nashville/The-Races/Marathon/2016-Results/Athlete?id=1108\">Melanie Kulesz</a></td>\\n<td>02:59:09</td>\\n</tr>\\n<tr>\\n<td>2</td>\\n<td><a href=\"/en/Events/Nashville/The-Races/Marathon/2016-Results/Athlete?id=101\">Megan Hovis</a></td>\\n<td>03:04:49</td>\\n</tr>\\n<tr>\\n<td>3</td>\\n<td><a href=\"/en/Events/Nashville/The-Races/Marathon/2016-Results/Athlete?id=1142\">Shandra Moore</a></td>\\n<td>03:08:32</td>\\n</tr>\\n<tr>\\n<td>4</td>\\n<td><a href=\"/en/Events/Nashville/The-Races/Marathon/2016-Results/Athlete?id=4077\">Kelli Proctor</a></td>\\n<td>03:10:08</td>\\n</tr>\\n<tr>\\n<td>5</td>\\n<td><a href=\"/en/Events/Nashville/The-Races/Marathon/2016-Results/Athlete?id=4054\">Marykate Kausel</a></td>\\n<td>03:10:54</td>\\n</tr>\\n<tr>\\n<td>6</td>\\n<td><a href=\"/en/Events/Nashville/The-Races/Marathon/2016-Results/Athlete?id=2106\">Jessica Hoefert</a></td>\\n<td>03:11:34</td>\\n</tr>\\n<tr>\\n<td>7</td>\\n<td><a href=\"/en/Events/Nashville/The-Races/Marathon/2016-Results/Athlete?id=1141\">Lynn Baione</a></td>\\n<td>03:13:13</td>\\n</tr>\\n<tr>\\n<td>8</td>\\n<td><a href=\"/en/Events/Nashville/The-Races/Marathon/2016-Results/Athlete?id=1149\">Jodi Theriault</a></td>\\n<td>03:13:15</td>\\n</tr>\\n<tr>\\n<td>9</td>\\n<td><a href=\"/en/Events/Nashville/The-Races/Marathon/2016-Results/Athlete?id=1176\">Jillian Brady</a></td>\\n<td>03:14:14</td>\\n</tr>\\n<tr>\\n<td>10</td>\\n<td><a href=\"/en/Events/Nashville/The-Races/Marathon/2016-Results/Athlete?id=2001\">Riki Allen</a></td>\\n<td>03:14:23</td>\\n</tr>\\n</table>\\n</div>\\n</div>\\n<div class=\"col-md-6\">\\n<div class=\"race-search-top10-div\">\\n<table class=\"table table-responsive table-bordered\">\\n<tr>\\n<th class=\"table-header\" colspan=\"3\">Top Men</th>\\n</tr>\\n<tr>\\n<th class=\"table-place\">Gender PL</th>\\n<th class=\"table-name\">Name</th>\\n<th class=\"table-time\">Time</th>\\n</tr>\\n<tr>\\n<td>1</td>\\n<td><a href=\"/en/Events/Nashville/The-Races/Marathon/2016-Results/Athlete?id=1\">Scott Wietecha</a></td>\\n<td>02:25:42</td>\\n</tr>\\n<tr>\\n<td>2</td>\\n<td><a href=\"/en/Events/Nashville/The-Races/Marathon/2016-Results/Athlete?id=3\">Brian Shelton</a></td>\\n<td>02:34:43</td>\\n</tr>\\n<tr>\\n<td>3</td>\\n<td><a href=\"/en/Events/Nashville/The-Races/Marathon/2016-Results/Athlete?id=1047\">Christopher Capps</a></td>\\n<td>02:38:43</td>\\n</tr>\\n<tr>\\n<td>4</td>\\n<td><a href=\"/en/Events/Nashville/The-Races/Marathon/2016-Results/Athlete?id=1052\">Jason Grimes</a></td>\\n<td>02:45:06</td>\\n</tr>\\n<tr>\\n<td>5</td>\\n<td><a href=\"/en/Events/Nashville/The-Races/Marathon/2016-Results/Athlete?id=1046\">David Adams</a></td>\\n<td>02:47:28</td>\\n</tr>\\n<tr>\\n<td>6</td>\\n<td><a href=\"/en/Events/Nashville/The-Races/Marathon/2016-Results/Athlete?id=1049\">Matthew Meinema</a></td>\\n<td>02:47:36</td>\\n</tr>\\n<tr>\\n<td>7</td>\\n<td><a href=\"/en/Events/Nashville/The-Races/Marathon/2016-Results/Athlete?id=1044\">Seth Carley</a></td>\\n<td>02:48:22</td>\\n</tr>\\n<tr>\\n<td>8</td>\\n<td><a href=\"/en/Events/Nashville/The-Races/Marathon/2016-Results/Athlete?id=1092\">Ben Becker</a></td>\\n<td>02:52:19</td>\\n</tr>\\n<tr>\\n<td>9</td>\\n<td><a href=\"/en/Events/Nashville/The-Races/Marathon/2016-Results/Athlete?id=1057\">Jonathan Mason</a></td>\\n<td>02:53:38</td>\\n</tr>\\n<tr>\\n<td>10</td>\\n<td><a href=\"/en/Events/Nashville/The-Races/Marathon/2016-Results/Athlete?id=1058\">Matt Treat</a></td>\\n<td>02:53:48</td>\\n</tr>\\n</table>\\n</div>\\n</div>\\n</div>\\n</div>\\n</section><section class=\"section section-full \">\\n<div class=\"container\">\\n<div class=\"row\">\\n<div class=\"col-md-6\">\\n</div>\\n<div class=\"col-md-6\">\\n</div>\\n</div>\\n</div>\\n</section>\\n<div class=\"text-center\">\\n<ul class=\"list-inline\">\\n</ul>\\n</div>\\n<div id=\"secSponsor\" class=\"owl-carousel sponsors\" data-options=\\'{\"items\": 8, \"autoplay\": true, \"autoplayTimeout\": 5000, \"loop\": true, \"navigation\": false, \"navigationText\": [\"<\", \">\"], \"responsive\":{ \"0\" :{ \"items\": 2 }, \"500\" :{ \"items\": 3 }, \"860\" :{ \"items\" : 4 } , \"1000\":{ \"items\" : 8 }} }\\'>\\n<div>\\n<a href=\"http://www.brooksrunning.com/\" target=\"_blank\">\\n<img src=\"/-/media/RnR/Images/Sponsors/Series-Sponsors/Brooks/brooks_horiz_blk.jpg?h=50&amp;mh=100&amp;w=171&amp;hash=9A8F9BE5CFE4E99F11B840A488EBC39B\" class=\"img-responsive\" alt=\"Brooks\" width=\"171\" height=\"50\" DisableWebEdit=\"False\" />\\n</a>\\n</div>\\n<div>\\n<a href=\"https://www.united.com/ual/en/us/\" target=\"_blank\">\\n<img src=\"/-/media/RnR/Images/Sponsors/Series-Sponsors/United-Airlines/160x50-united.jpg?h=50&amp;mh=100&amp;w=160&amp;hash=F59D3AC956300DFABF57851C7D9C716B\" class=\"img-responsive\" alt=\"united airlines\" width=\"160\" height=\"50\" DisableWebEdit=\"False\" />\\n</a>\\n</div>\\n<div>\\n<a href=\"https://www.humana.com\" target=\"_blank\">\\n<img src=\"/-/media/RnR/Images/Sponsors/Series-Sponsors/Humana/partner_logo-humana.jpg?h=50&amp;mh=100&amp;w=109&amp;hash=2DA5DD6B8859825235CD7DBADC52C0B9\" class=\"img-responsive\" alt=\"humana\" width=\"109\" height=\"50\" DisableWebEdit=\"False\" />\\n</a>\\n</div>\\n<div>\\n<a href=\"https://www.active.com/.\" target=\"_blank\">\\n<img src=\"/-/media/Active_grey.png?h=50&amp;mh=100&amp;w=100&amp;hash=C603B69939862854A284B13FFBE5C615\" class=\"img-responsive\" alt=\"active\" width=\"100\" height=\"50\" DisableWebEdit=\"False\" />\\n</a>\\n</div>\\n<div>\\n<a href=\"https://cepcompression.com/\" target=\"_blank\">\\n<img src=\"/-/media/RnR/Images/Sponsors/Series-Sponsors/CEP/cep-160x160-bw/cep-160x160-bw_50.png?h=50&amp;mh=100&amp;w=114&amp;hash=D7E02BFBF2CE675F50E3AB09FB4BE102\" class=\"img-responsive\" alt=\"CEP Compression Logo\" width=\"114\" height=\"50\" DisableWebEdit=\"False\" />\\n</a>\\n</div>\\n<div>\\n<a href=\"https://www.builtwithchocolatemilk.com/\" target=\"_blank\">\\n<img src=\"/-/media/RnR/Images/Sponsors/Series-Sponsors/Chocolate-Milk/partner_logo-chocolate-milk.jpg?h=50&amp;mh=100&amp;w=90&amp;hash=F208A4FDCD204BD9C78F96B4D6805492\" class=\"img-responsive\" alt=\"Milk\" width=\"90\" height=\"50\" DisableWebEdit=\"False\" />\\n</a>\\n</div>\\n<div>\\n<a href=\"https://www.finisherpix.com/home.html\" target=\"_blank\">\\n<img src=\"/-/media/RnR/Images/Sponsors/Series-Sponsors/FinisherPix/FinisherPix_GreyScale.png?h=50&amp;mh=100&amp;w=152&amp;hash=9BE2C1CF2E172C0E89C8078166897F3A\" class=\"img-responsive\" alt=\"finisher pix\" width=\"152\" height=\"50\" DisableWebEdit=\"False\" />\\n</a>\\n</div>\\n<div>\\n<a href=\"http://www.gatorade.com/endurance/\" target=\"_blank\">\\n<img src=\"/-/media/RnR/Images/Sponsors/Series-Sponsors/Gatorade/partner_logo-gatorade-endurance.jpg?h=50&amp;mh=100&amp;w=65&amp;hash=64BBEBDEF000B3A4C0EFEAE87C584123\" class=\"img-responsive\" alt=\"Gatorade\" width=\"65\" height=\"50\" DisableWebEdit=\"False\" />\\n</a>\\n</div>\\n<div>\\n<a href=\"https://bubbafoods.com/\" target=\"_blank\">\\n<img src=\"/-/media/RnR/Images/Sponsors/Series-Sponsors/Bubba-Burger/bubba-burger-logo_GreyScale.png?h=50&amp;mh=100&amp;w=132&amp;hash=BA894BFB29C59DE0989073ED15B6E513\" class=\"img-responsive\" alt=\"Bubba Burger\" width=\"132\" height=\"50\" DisableWebEdit=\"False\" />\\n</a>\\n</div>\\n<div>\\n<a href=\"http://www.dolesunshine.com\" target=\"\">\\n<img src=\"/-/media/RnR/Images/Sponsors/Series-Sponsors/Dole/2020_Dole_logo_greyscale.png?h=65&amp;mh=100&amp;w=95&amp;hash=49EB33789497D77B74DF8B20E430E7F6\" class=\"img-responsive\" alt=\"2020_Dole_logo_greyscale\" width=\"95\" height=\"65\" DisableWebEdit=\"False\" />\\n</a>\\n</div>\\n<div>\\n<a href=\"https://www.pnc.com/tennesseecommercial\" target=\"_blank\">\\n<img src=\"/-/media/RnR/Images/Sponsors/Nashville-Sponsors/PNC_Bank_Logo.png?h=50&amp;mh=100&amp;w=267&amp;hash=9D4167B4BD0073A536B27CBB9DACF416\" class=\"img-responsive\" alt=\"PNC_Bank_Logo\" width=\"267\" height=\"50\" DisableWebEdit=\"False\" />\\n</a>\\n</div>\\n<div>\\n<a href=\"http://www.potatoesusa.com/\" target=\"_blank\">\\n<img src=\"/-/media/RnR/Images/Sponsors/Series-Sponsors/Potatoes-USA/PotatoesUSA_LogoGreyScale_3.png?h=100&amp;mh=100&amp;w=217&amp;hash=BB6E3A5C17F39085E24713ACB27F82C7\" class=\"img-responsive\" alt=\"Potatoes USA\" width=\"217\" height=\"100\" DisableWebEdit=\"False\" />\\n</a>\\n</div>\\n<div>\\n<a href=\"https://www.thelaughingcow.com/\" target=\"_blank\">\\n<img src=\"/-/media/RnR/Images/Sponsors/Series-Sponsors/Laughing-Cow/Laughing-Cow-Grey-logo.jpg?h=50&amp;mh=100&amp;w=100&amp;hash=69A1FBCEBD9F96E27B7592A53046CA06\" class=\"img-responsive\" alt=\"Laughing-Cow-Grey-logo\" width=\"100\" height=\"50\" DisableWebEdit=\"False\" />\\n</a>\\n</div>\\n<div>\\n<a href=\"https://capitolviewnashville.com/ \" target=\"_blank\">\\n<img src=\"/-/media/RnR/Images/Sponsors/Nashville-Sponsors/Capital-View-Logo.jpg?h=50&amp;mh=100&amp;w=50&amp;hash=10D0A23C7EB9FA24EEB5A8E17BBDFB7D\" class=\"img-responsive\" alt=\"Capital-View-Logo\" width=\"50\" height=\"50\" DisableWebEdit=\"False\" />\\n</a>\\n</div>\\n<div>\\n<a href=\"https://www.apple.com/apple-pay/\" target=\"_blank\">\\n<img src=\"/-/media/RnR/Images/Sponsors/Series-Sponsors/Apple-Pay/ApplePay_Logo-grayscale.jpg?h=100&amp;mh=100&amp;w=145&amp;hash=5BEC326FA972ECD71473CFEB343E8296\" class=\"img-responsive\" alt=\"ApplePay_Logo grayscale\" width=\"145\" height=\"100\" DisableWebEdit=\"False\" />\\n</a>\\n</div>\\n</div>\\n</main>\\n<footer class=\"bg-dark\">\\n<div class=\"container\">\\n<div class=\"row\">\\n<div class=\"col-sm-3\">\\n<ul class=\"nav nav-links nav-stacked\">\\n<li>\\n<a href=\"/About\" target=\"\" title=\"About\">\\n<span>About</span>\\n</a>\\n</li>\\n<li>\\n<a href=\"/Expo-Vendor\" target=\"\" title=\"Expo Vendor\">\\n<span>Expo Vendor</span>\\n</a>\\n</li>\\n<li>\\n<a href=\"/Press\" target=\"\" title=\"Press\">\\n<span>Press</span>\\n</a>\\n</li>\\n<li>\\n<a href=\"/Results\" target=\"\" title=\"Race Results\">\\n<span>Race Results</span>\\n</a>\\n</li>\\n<li>\\n<a href=\"/Partners\" target=\"\" title=\"Partners\">\\n<span>Partners</span>\\n</a>\\n</li>\\n<li>\\n<a href=\"/Programs\" target=\"\" title=\"Charity\">\\n<span>Charity</span>\\n</a>\\n</li>\\n<li>\\n<a href=\"/Contact\" target=\"\" title=\"Contact\">\\n<span>Contact</span>\\n</a>\\n</li>\\n<li>\\n<a href=\"/Contact\" target=\"\" title=\"FAQ\">\\n<span>FAQ</span>\\n</a>\\n</li>\\n<li>\\n<a href=\"/Blog\" target=\"\" title=\"Blog\">\\n<span>Blog</span>\\n</a>\\n</li>\\n<li>\\n<a href=\"/Programs/Elite-Athletes\" target=\"\" title=\"Elite Athletes\">\\n<span>Elite Athletes</span>\\n</a>\\n</li>\\n</ul>\\n</div>\\n<div class=\"col-sm-3\">\\n<ul class=\"nav nav-links nav-stacked\">\\n<li>\\n<a href=\"/Events/Nashville/The-Races/Marathon\" target=\"\" title=\"Marathon\">\\n<span>Marathon</span>\\n</a>\\n</li>\\n<li>\\n<a href=\"/Events/Nashville/The-Races/Half-Marathon\" target=\"\" title=\"Half Marathon\">\\n<span>Half Marathon</span>\\n</a>\\n</li>\\n<li>\\n<a href=\"/Events/Nashville/The-Races/5K\" target=\"\" title=\"5K\">\\n<span>5K</span>\\n</a>\\n</li>\\n<li>\\n<a href=\"/Events/Nashville/The-Races/FAQ\" target=\"\" title=\"FAQ\">\\n<span>FAQ</span>\\n</a>\\n</li>\\n<li>\\n<a href=\"/Events/Nashville/The-Races/Road-Closures\" target=\"\" title=\"Road Closures\">\\n<span>Road Closures</span>\\n</a>\\n</li>\\n<li>\\n<a href=\"/Events/Nashville/The-Races/Results\" target=\"\" title=\"Results\">\\n<span>Results</span>\\n</a>\\n</li>\\n</ul>\\n</div>\\n<div class=\"col-sm-3\">\\n<ul class=\"nav nav-links nav-stacked\">\\n<li>\\n<a href=\"/Events/Nashville/The-Weekend/Schedule\" target=\"\" title=\"Schedule\">\\n<span>Schedule</span>\\n</a>\\n</li>\\n<li>\\n<a href=\"/Events/Nashville/The-Weekend/Expo\" target=\"\" title=\"Expo\">\\n<span>Expo</span>\\n</a>\\n</li>\\n <li>\\n<a href=\"/Events/Nashville/The-Weekend/Runner-Perks\" target=\"\" title=\"Runner Perks\">\\n<span>Runner Perks</span>\\n</a>\\n</li>\\n<li>\\n<a href=\"/Events/Nashville/The-Weekend/Travel\" target=\"\" title=\"Travel\">\\n<span>Travel</span>\\n</a>\\n</li>\\n<li>\\n<a href=\"/Events/Nashville/The-Weekend/Volunteer\" target=\"\" title=\"Volunteer\">\\n<span>Volunteer</span>\\n</a>\\n</li>\\n</ul>\\n</div>\\n<div class=\"col-sm-3\">\\n<ul class=\"nav nav-links nav-stacked\">\\n<li>\\n<a href=\"/Contact\" target=\"\" title=\"Contact\">\\n<span>Contact</span>\\n</a>\\n</li>\\n<li>\\n<a href=\"/Contact\" target=\"\" title=\"FAQ\">\\n<span>FAQ</span>\\n</a>\\n</li>\\n<li>\\n<a href=\"https://rtrt.me/app/rnra\" target=\"_blank\" title=\"Download our App\">\\n<span>Download our App</span>\\n</a>\\n</li>\\n<li>\\n<a href=\"https://twitter.com/runrocknroll\" target=\"_blank\" title=\"Twitter\">\\n<span>Twitter</span>\\n</a>\\n</li>\\n<li>\\n<a href=\"https://www.facebook.com/RunRocknRoll\" target=\"_blank\" title=\"Facebook\">\\n<span>Facebook</span>\\n</a>\\n</li>\\n<li>\\n<a href=\"https://www.instagram.com/runrocknroll/\" target=\"_blank\" title=\"Instagram\">\\n<span>Instagram</span>\\n</a>\\n</li>\\n<li>\\n<a href=\"https://www.youtube.com/runrocknroll/\" target=\"_blank\" title=\"Youtube\">\\n<span>Youtube</span>\\n</a>\\n</li>\\n<li>\\n<a href=\"https://www.pinterest.com/runrocknroll/\" target=\"_blank\" title=\"Pinterest\">\\n<span>Pinterest</span>\\n</a>\\n</li>\\n</ul>\\n</div>\\n</div>\\n</div>\\n<a class=\"\" href=\"/en\">\\n<span class=\"logo row\">\\n<img src=\"/-/media/RnR/Images/Logo/RocknRoll_logo.png?h=50&amp;la=en&amp;mh=50&amp;w=270&amp;hash=D273C43160DC6F102327F2C70FC7DB08\" alt=\"Rock n Roll Marathon\" width=\"270\" height=\"50\" DisableWebEdit=\"False\" />\\n</span>\\n</a>\\n<div class=\"footer-bottom text-center\">\\n<div class=\"container\">\\n<div class=\"row\">\\n<div class=\"col-md-12\">\\n<div class=\"collapse navbar-collapse\" id=\"siteNavbar\">\\n<ul class=\"nav nav-service navbar-nav nav-pills\">\\n<li class=\"\">\\n<a href=\"http://content.ironman.com/LP---Rock-N-Roll-Website-Subscribe.html?&amp;utm_source=website&amp;utm_medium=web&amp;utm_campaign=evergreen\" target=\"_blank\" title=\"Subscribe\" class=\"\">\\nSubscribe </a>\\n</li>\\n<li class=\"divider-left\">\\n<a href=\"/en/Privacy-Policy\" target=\"\" title=\"Ad Choices\" class=\"\">\\nAd Choices </a>\\n</li>\\n<li class=\"divider-left\">\\n<a href=\"/en/Do-Not-Sell\" target=\"\" title=\"Do Not Sell\" class=\"\">\\nDo Not Sell </a>\\n</li>\\n<li class=\"divider-left\">\\n<a href=\"/en/Privacy-Policy\" target=\"\" title=\"Privacy Policy\" class=\"\">\\nPrivacy Policy </a>\\n</li>\\n<li class=\"divider-left\">\\n<a href=\"https://www.ironman.com/terms-of-use\" target=\"_blank\" title=\"Terms of Use\" class=\"\">\\nTerms of Use </a>\\n</li>\\n</ul>\\n</div>\\n<small class=\"copyright row\">\\n\\xc2\\xa9 2019 \\xe2\\x80\\x93 Competitor Group, Inc. All Rights Reserved.\\n</small>\\n</div>\\n</div>\\n</div>\\n</div>\\n</footer>\\n</div>\\n<script src=\"/scripts/Events/EventCountdown.js\"></script>\\n<script src=\"/scripts/language/language.js\"></script>\\n<script src=\"/scripts/search/search.js\"></script>\\n<script src=\"//www.atmrum.net/rum.js\"></script>\\n<script>rum.start(\"df965e9d5cc954678e1f0b3288e07300\");</script>\\n</body>\\n</html>'"
      ]
     },
     "execution_count": 5,
     "metadata": {},
     "output_type": "execute_result"
    }
   ],
   "source": [
    "response.content"
   ]
  },
  {
   "cell_type": "markdown",
   "metadata": {},
   "source": [
    "## Now, find the table!\n",
    "\n",
    "The class that we need to search for is `race-search-main`. \n",
    "The element with this class should hold the table with our data!"
   ]
  },
  {
   "cell_type": "code",
   "execution_count": 14,
   "metadata": {},
   "outputs": [],
   "source": [
    "from bs4 import BeautifulSoup"
   ]
  },
  {
   "cell_type": "code",
   "execution_count": 15,
   "metadata": {},
   "outputs": [],
   "source": [
    "# \\ is a symbol to do two search\n",
    "soup = BeautifulSoup(response.content, \"html.parser\")\n",
    "race_search_main =soup.find(attrs={\"class\": \"race-search-main\"}).find(\"table\")"
   ]
  },
  {
   "cell_type": "code",
   "execution_count": 16,
   "metadata": {},
   "outputs": [
    {
     "data": {
      "text/plain": [
       "<table class=\"table table-responsive table-bordered\">\n",
       "<tr>\n",
       "<th class=\"table-place\">Overall</th>\n",
       "<th class=\"table-place\">Bib</th>\n",
       "<th class=\"table-name\">Name</th>\n",
       "<th class=\"table-time\">Time</th>\n",
       "</tr>\n",
       "<tr>\n",
       "<td>1</td>\n",
       "<td>1</td>\n",
       "<td><a href=\"/en/Events/Nashville/The-Races/Marathon/2016-Results/Athlete?id=1\">Scott Wietecha</a></td>\n",
       "<td>02:25:42</td>\n",
       "</tr>\n",
       "<tr>\n",
       "<td>2</td>\n",
       "<td>3</td>\n",
       "<td><a href=\"/en/Events/Nashville/The-Races/Marathon/2016-Results/Athlete?id=3\">Brian Shelton</a></td>\n",
       "<td>02:34:43</td>\n",
       "</tr>\n",
       "<tr>\n",
       "<td>3</td>\n",
       "<td>1047</td>\n",
       "<td><a href=\"/en/Events/Nashville/The-Races/Marathon/2016-Results/Athlete?id=1047\">Christopher Capps</a></td>\n",
       "<td>02:38:43</td>\n",
       "</tr>\n",
       "<tr>\n",
       "<td>4</td>\n",
       "<td>1052</td>\n",
       "<td><a href=\"/en/Events/Nashville/The-Races/Marathon/2016-Results/Athlete?id=1052\">Jason Grimes</a></td>\n",
       "<td>02:45:06</td>\n",
       "</tr>\n",
       "<tr>\n",
       "<td>5</td>\n",
       "<td>1046</td>\n",
       "<td><a href=\"/en/Events/Nashville/The-Races/Marathon/2016-Results/Athlete?id=1046\">David Adams</a></td>\n",
       "<td>02:47:28</td>\n",
       "</tr>\n",
       "<tr>\n",
       "<td>6</td>\n",
       "<td>1049</td>\n",
       "<td><a href=\"/en/Events/Nashville/The-Races/Marathon/2016-Results/Athlete?id=1049\">Matthew Meinema</a></td>\n",
       "<td>02:47:36</td>\n",
       "</tr>\n",
       "<tr>\n",
       "<td>7</td>\n",
       "<td>1044</td>\n",
       "<td><a href=\"/en/Events/Nashville/The-Races/Marathon/2016-Results/Athlete?id=1044\">Seth Carley</a></td>\n",
       "<td>02:48:22</td>\n",
       "</tr>\n",
       "<tr>\n",
       "<td>8</td>\n",
       "<td>1092</td>\n",
       "<td><a href=\"/en/Events/Nashville/The-Races/Marathon/2016-Results/Athlete?id=1092\">Ben Becker</a></td>\n",
       "<td>02:52:19</td>\n",
       "</tr>\n",
       "<tr>\n",
       "<td>9</td>\n",
       "<td>1057</td>\n",
       "<td><a href=\"/en/Events/Nashville/The-Races/Marathon/2016-Results/Athlete?id=1057\">Jonathan Mason</a></td>\n",
       "<td>02:53:38</td>\n",
       "</tr>\n",
       "<tr>\n",
       "<td>10</td>\n",
       "<td>1058</td>\n",
       "<td><a href=\"/en/Events/Nashville/The-Races/Marathon/2016-Results/Athlete?id=1058\">Matt Treat</a></td>\n",
       "<td>02:53:48</td>\n",
       "</tr>\n",
       "<tr>\n",
       "<td>11</td>\n",
       "<td>1067</td>\n",
       "<td><a href=\"/en/Events/Nashville/The-Races/Marathon/2016-Results/Athlete?id=1067\">Kevin Selinsky</a></td>\n",
       "<td>02:55:49</td>\n",
       "</tr>\n",
       "<tr>\n",
       "<td>12</td>\n",
       "<td>1069</td>\n",
       "<td><a href=\"/en/Events/Nashville/The-Races/Marathon/2016-Results/Athlete?id=1069\">Cole Bataille</a></td>\n",
       "<td>02:56:56</td>\n",
       "</tr>\n",
       "<tr>\n",
       "<td>13</td>\n",
       "<td>1087</td>\n",
       "<td><a href=\"/en/Events/Nashville/The-Races/Marathon/2016-Results/Athlete?id=1087\">Joseph Shields</a></td>\n",
       "<td>02:58:53</td>\n",
       "</tr>\n",
       "<tr>\n",
       "<td>14</td>\n",
       "<td>1108</td>\n",
       "<td><a href=\"/en/Events/Nashville/The-Races/Marathon/2016-Results/Athlete?id=1108\">Melanie Kulesz</a></td>\n",
       "<td>02:59:09</td>\n",
       "</tr>\n",
       "<tr>\n",
       "<td>15</td>\n",
       "<td>2014</td>\n",
       "<td><a href=\"/en/Events/Nashville/The-Races/Marathon/2016-Results/Athlete?id=2014\">Kieran Frost</a></td>\n",
       "<td>02:59:30</td>\n",
       "</tr>\n",
       "<tr>\n",
       "<td>16</td>\n",
       "<td>1155</td>\n",
       "<td><a href=\"/en/Events/Nashville/The-Races/Marathon/2016-Results/Athlete?id=1155\">Brian Wiest</a></td>\n",
       "<td>02:59:51</td>\n",
       "</tr>\n",
       "<tr>\n",
       "<td>17</td>\n",
       "<td>1048</td>\n",
       "<td><a href=\"/en/Events/Nashville/The-Races/Marathon/2016-Results/Athlete?id=1048\">Braden Robbins</a></td>\n",
       "<td>03:00:26</td>\n",
       "</tr>\n",
       "<tr>\n",
       "<td>18</td>\n",
       "<td>1080</td>\n",
       "<td><a href=\"/en/Events/Nashville/The-Races/Marathon/2016-Results/Athlete?id=1080\">Bo Brewer</a></td>\n",
       "<td>03:01:09</td>\n",
       "</tr>\n",
       "<tr>\n",
       "<td>19</td>\n",
       "<td>27408</td>\n",
       "<td><a href=\"/en/Events/Nashville/The-Races/Marathon/2016-Results/Athlete?id=27408\">Bryan Larison</a></td>\n",
       "<td>03:01:23</td>\n",
       "</tr>\n",
       "<tr>\n",
       "<td>20</td>\n",
       "<td>101</td>\n",
       "<td><a href=\"/en/Events/Nashville/The-Races/Marathon/2016-Results/Athlete?id=101\">Megan Hovis</a></td>\n",
       "<td>03:04:49</td>\n",
       "</tr>\n",
       "<tr>\n",
       "<td>21</td>\n",
       "<td>2003</td>\n",
       "<td><a href=\"/en/Events/Nashville/The-Races/Marathon/2016-Results/Athlete?id=2003\">Ryan Ladd</a></td>\n",
       "<td>03:05:51</td>\n",
       "</tr>\n",
       "<tr>\n",
       "<td>22</td>\n",
       "<td>1081</td>\n",
       "<td><a href=\"/en/Events/Nashville/The-Races/Marathon/2016-Results/Athlete?id=1081\">Mark Temme</a></td>\n",
       "<td>03:06:21</td>\n",
       "</tr>\n",
       "<tr>\n",
       "<td>23</td>\n",
       "<td>1137</td>\n",
       "<td><a href=\"/en/Events/Nashville/The-Races/Marathon/2016-Results/Athlete?id=1137\">Alexandre Jamar</a></td>\n",
       "<td>03:06:22</td>\n",
       "</tr>\n",
       "<tr>\n",
       "<td>24</td>\n",
       "<td>1142</td>\n",
       "<td><a href=\"/en/Events/Nashville/The-Races/Marathon/2016-Results/Athlete?id=1142\">Shandra Moore</a></td>\n",
       "<td>03:08:32</td>\n",
       "</tr>\n",
       "<tr>\n",
       "<td>25</td>\n",
       "<td>1085</td>\n",
       "<td><a href=\"/en/Events/Nashville/The-Races/Marathon/2016-Results/Athlete?id=1085\">Thomas Von Der Ohe</a></td>\n",
       "<td>03:08:39</td>\n",
       "</tr>\n",
       "</table>"
      ]
     },
     "execution_count": 16,
     "metadata": {},
     "output_type": "execute_result"
    }
   ],
   "source": [
    "#you have made a table and now you need to turn into a dataframe\n",
    "race_search_main\n"
   ]
  },
  {
   "cell_type": "code",
   "execution_count": 21,
   "metadata": {},
   "outputs": [
    {
     "data": {
      "text/plain": [
       "bs4.element.Tag"
      ]
     },
     "execution_count": 21,
     "metadata": {},
     "output_type": "execute_result"
    }
   ],
   "source": [
    "type(race_search_main)\n"
   ]
  },
  {
   "cell_type": "code",
   "execution_count": null,
   "metadata": {},
   "outputs": [],
   "source": []
  }
 ],
 "metadata": {
  "kernelspec": {
   "display_name": "Python 3",
   "language": "python",
   "name": "python3"
  },
  "language_info": {
   "codemirror_mode": {
    "name": "ipython",
    "version": 3
   },
   "file_extension": ".py",
   "mimetype": "text/x-python",
   "name": "python",
   "nbconvert_exporter": "python",
   "pygments_lexer": "ipython3",
   "version": "3.7.4"
  }
 },
 "nbformat": 4,
 "nbformat_minor": 4
}
