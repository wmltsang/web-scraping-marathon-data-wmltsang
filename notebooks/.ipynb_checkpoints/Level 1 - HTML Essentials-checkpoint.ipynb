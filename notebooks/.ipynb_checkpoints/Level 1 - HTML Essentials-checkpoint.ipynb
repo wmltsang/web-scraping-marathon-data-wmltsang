{
 "cells": [
  {
   "cell_type": "markdown",
   "metadata": {},
   "source": [
    "# Level 1 - `HTML` Through `Markdown`\n",
    "\n",
    "Possibly without knowing it, you have been creating `HTML` content within your `Jupyter` notebooks just by using `Markdown`!\n",
    "If you haven't been using `Markdown` up until this point, I would highly recommend it. \n",
    "`Markdown` is a great way to document your process in code, tell stories, add images, and ultimately create great reports as you are coding!\n",
    "\n",
    "A `Markdown` \"cheatsheet\" can be found [here](https://github.com/adam-p/markdown-here/wiki/Markdown-Cheatsheet).\n",
    "\n",
    "`HTML` stands for: `Hyper Text Markup Language`.\n",
    "It is the standard markup language for Web pages.\n",
    "It describes the structure of a web page and tells the browser how to display the content.\n",
    "`HTML` consists of a series of `elements`\n",
    "\n",
    "\n",
    "---\n",
    "\n",
    "# `HTML` Element Structure\n",
    "\n",
    "\n",
    "`HTML` elements are defined by _start_ and _end_ tags:\n",
    "\n",
    "```html\n",
    "<content>This is HTML!</content>\n",
    "<p>This is a paragraph!</p>\n",
    "```\n",
    "\n",
    "The _start tag_ is the beginning of an `HTML` element, and the _end tag_ denotes the end of that same element.\n",
    "Both the start and end tags should look the same, but the end tag will have a `/` before the name of the element.\n",
    "\n",
    "\n",
    "\n",
    "\n",
    "# `HTML` Examples\n",
    "\n",
    "---\n",
    "\n",
    "## Elements"
   ]
  },
  {
   "cell_type": "markdown",
   "metadata": {},
   "source": [
    "## Headers\n",
    "\n",
    "These are usually titles or headings for different parts of the website."
   ]
  },
  {
   "cell_type": "raw",
   "metadata": {},
   "source": [
    "# H1\n",
    "\n",
    "<h1>H1</h1>"
   ]
  },
  {
   "cell_type": "raw",
   "metadata": {},
   "source": [
    "### H3\n",
    "\n",
    "<h3>H1</h3>"
   ]
  },
  {
   "cell_type": "markdown",
   "metadata": {},
   "source": [
    "## Paragraphs"
   ]
  },
  {
   "cell_type": "raw",
   "metadata": {},
   "source": [
    "This is a parapgraph!\n",
    "\n",
    "<p>This is also a parapgraph, but using HTML!</p>"
   ]
  },
  {
   "cell_type": "markdown",
   "metadata": {},
   "source": [
    "## Lists\n",
    "\n",
    "Lists can either be ordered (`ol`) or unordered (`ul`).\n",
    "This also shows that you can _nest_ elements within each other..\n",
    "It's very common!"
   ]
  },
  {
   "cell_type": "raw",
   "metadata": {},
   "source": [
    "1. One \n",
    "2. Two\n",
    "3. Three\n",
    "    * a\n",
    "    * b\n",
    "    * c\n",
    "\n",
    "\n",
    "<ol>\n",
    "    <li>One</li>\n",
    "    <li>Two</li>\n",
    "    <li>Three\n",
    "        <ul>\n",
    "            <li>a</li>\n",
    "            <li>b</li>\n",
    "            <li>c</li>\n",
    "        </ul>\n",
    "    </li>\n",
    "</ol>"
   ]
  },
  {
   "cell_type": "markdown",
   "metadata": {},
   "source": [
    "## Links\n",
    "\n",
    "Links are how you navigate to other websites..\n",
    "They define `hyperlinks`.\n",
    "\n",
    "Links also introduce HTML element `attributes`.\n",
    "For both of the following elements, the `href` is an `attribute` to the relative `<a>` tag that specifies the URL of the page to go to."
   ]
  },
  {
   "cell_type": "raw",
   "metadata": {},
   "source": [
    "[This is a link!](https://www.google.com)\n",
    "\n",
    "<a href=\"https://www.google.com\">This is a link!</a>"
   ]
  },
  {
   "cell_type": "markdown",
   "metadata": {},
   "source": [
    "## Images\n",
    "\n",
    "Like links, images also have `attributes` associated with the tag.\n",
    "The `src` attribute tells the tag where to look for the image to display.\n",
    "The `alt` attribute specifies alternative text to display for the image if there is a slow connection, or some other error on the website."
   ]
  },
  {
   "cell_type": "raw",
   "metadata": {},
   "source": [
    "![Snake](../assets/snake.png)\n",
    "\n",
    "<img src=\"../assets/spider.png\" alt=\"Spider\"></img>"
   ]
  }
 ],
 "metadata": {
  "kernelspec": {
   "display_name": "Python 3",
   "language": "python",
   "name": "python3"
  },
  "language_info": {
   "codemirror_mode": {
    "name": "ipython",
    "version": 3
   },
   "file_extension": ".py",
   "mimetype": "text/x-python",
   "name": "python",
   "nbconvert_exporter": "python",
   "pygments_lexer": "ipython3",
   "version": "3.7.4"
  }
 },
 "nbformat": 4,
 "nbformat_minor": 4
}
